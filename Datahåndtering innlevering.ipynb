{
 "cells": [
  {
   "cell_type": "markdown",
   "metadata": {},
   "source": [
    "# Datahånerig og statistikk"
   ]
  },
  {
   "cell_type": "markdown",
   "metadata": {},
   "source": [
    "## Stikkord\n",
    "\n",
    "standaravvik: forskjellom mellom målingen du tar og avstanden mellom det og gjennomsnittet. hvor presise målingene dine er. \n",
    "diagrammer \n",
    "regresjonsanalyse\n",
    "\n",
    "# lese og plotting av data\n",
    "\n",
    "tekstfiler: mobil (ikke word: mye mer en bare tekst, veldig sammensatt)\n",
    "system av filer som er en kjørbar fil: \n",
    "\n",
    "## (funksjon) Hvordan vi gjør det: \n",
    "\n",
    "loadtxt (from pylab import)\n",
    "array: lagres i fil\n",
    "\n",
    "skiprows= hopper over linje \n",
    "\n",
    "skille:\n",
    "delimiter = ',' # her er det feks komma immelom hver\n",
    "\n"
   ]
  },
  {
   "cell_type": "markdown",
   "metadata": {},
   "source": [
    "nr = data[:,0] # kolonet betyr fra det første til det siste. (rad, kolonne) alle radene i 0te kolonne\n",
    "hoyde = [:,1]\n",
    "\n",
    "her ser vi rader på første altså nedover og kolonner bortover \n",
    "\n",
    "plot( nr, hoyde) plotte verdiene \n",
    "\n",
    "snitt = mean(hoyde) = gjennomsnitt \n",
    "\n",
    "avvik = std(hoyde = standeravvik \n",
    "\n",
    "print..\n",
    "\n",
    "dtype=str          (datatype)\n",
    "\n",
    "usecols =(1,2,3)   (tuppel)\n",
    "\n",
    "errorbar Usikkerhetsstolpeplott\n",
    "\n",
    "me"
   ]
  },
  {
   "cell_type": "code",
   "execution_count": 14,
   "metadata": {},
   "outputs": [
    {
     "ename": "OSError",
     "evalue": "SOL not found.",
     "output_type": "error",
     "traceback": [
      "\u001b[0;31m---------------------------------------------------------------------------\u001b[0m",
      "\u001b[0;31mOSError\u001b[0m                                   Traceback (most recent call last)",
      "\u001b[0;32m<ipython-input-14-520440c4cf7d>\u001b[0m in \u001b[0;36m<module>\u001b[0;34m\u001b[0m\n\u001b[1;32m      2\u001b[0m \u001b[0;34m\u001b[0m\u001b[0m\n\u001b[1;32m      3\u001b[0m \u001b[0;34m\u001b[0m\u001b[0m\n\u001b[0;32m----> 4\u001b[0;31m \u001b[0mdata\u001b[0m \u001b[0;34m=\u001b[0m \u001b[0mloadtxt\u001b[0m\u001b[0;34m(\u001b[0m\u001b[0;34m'SOL'\u001b[0m\u001b[0;34m,\u001b[0m \u001b[0mdelimiter\u001b[0m \u001b[0;34m=\u001b[0m \u001b[0;34m','\u001b[0m\u001b[0;34m,\u001b[0m \u001b[0mskiprows\u001b[0m\u001b[0;34m=\u001b[0m\u001b[0;36m1\u001b[0m\u001b[0;34m)\u001b[0m\u001b[0;34m\u001b[0m\u001b[0;34m\u001b[0m\u001b[0m\n\u001b[0m\u001b[1;32m      5\u001b[0m \u001b[0;34m\u001b[0m\u001b[0m\n\u001b[1;32m      6\u001b[0m \u001b[0;34m\u001b[0m\u001b[0m\n",
      "\u001b[0;32m//anaconda3/lib/python3.7/site-packages/numpy/lib/npyio.py\u001b[0m in \u001b[0;36mloadtxt\u001b[0;34m(fname, dtype, comments, delimiter, converters, skiprows, usecols, unpack, ndmin, encoding, max_rows)\u001b[0m\n\u001b[1;32m    960\u001b[0m             \u001b[0mfname\u001b[0m \u001b[0;34m=\u001b[0m \u001b[0mos_fspath\u001b[0m\u001b[0;34m(\u001b[0m\u001b[0mfname\u001b[0m\u001b[0;34m)\u001b[0m\u001b[0;34m\u001b[0m\u001b[0;34m\u001b[0m\u001b[0m\n\u001b[1;32m    961\u001b[0m         \u001b[0;32mif\u001b[0m \u001b[0m_is_string_like\u001b[0m\u001b[0;34m(\u001b[0m\u001b[0mfname\u001b[0m\u001b[0;34m)\u001b[0m\u001b[0;34m:\u001b[0m\u001b[0;34m\u001b[0m\u001b[0;34m\u001b[0m\u001b[0m\n\u001b[0;32m--> 962\u001b[0;31m             \u001b[0mfh\u001b[0m \u001b[0;34m=\u001b[0m \u001b[0mnp\u001b[0m\u001b[0;34m.\u001b[0m\u001b[0mlib\u001b[0m\u001b[0;34m.\u001b[0m\u001b[0m_datasource\u001b[0m\u001b[0;34m.\u001b[0m\u001b[0mopen\u001b[0m\u001b[0;34m(\u001b[0m\u001b[0mfname\u001b[0m\u001b[0;34m,\u001b[0m \u001b[0;34m'rt'\u001b[0m\u001b[0;34m,\u001b[0m \u001b[0mencoding\u001b[0m\u001b[0;34m=\u001b[0m\u001b[0mencoding\u001b[0m\u001b[0;34m)\u001b[0m\u001b[0;34m\u001b[0m\u001b[0;34m\u001b[0m\u001b[0m\n\u001b[0m\u001b[1;32m    963\u001b[0m             \u001b[0mfencoding\u001b[0m \u001b[0;34m=\u001b[0m \u001b[0mgetattr\u001b[0m\u001b[0;34m(\u001b[0m\u001b[0mfh\u001b[0m\u001b[0;34m,\u001b[0m \u001b[0;34m'encoding'\u001b[0m\u001b[0;34m,\u001b[0m \u001b[0;34m'latin1'\u001b[0m\u001b[0;34m)\u001b[0m\u001b[0;34m\u001b[0m\u001b[0;34m\u001b[0m\u001b[0m\n\u001b[1;32m    964\u001b[0m             \u001b[0mfh\u001b[0m \u001b[0;34m=\u001b[0m \u001b[0miter\u001b[0m\u001b[0;34m(\u001b[0m\u001b[0mfh\u001b[0m\u001b[0;34m)\u001b[0m\u001b[0;34m\u001b[0m\u001b[0;34m\u001b[0m\u001b[0m\n",
      "\u001b[0;32m//anaconda3/lib/python3.7/site-packages/numpy/lib/_datasource.py\u001b[0m in \u001b[0;36mopen\u001b[0;34m(path, mode, destpath, encoding, newline)\u001b[0m\n\u001b[1;32m    264\u001b[0m \u001b[0;34m\u001b[0m\u001b[0m\n\u001b[1;32m    265\u001b[0m     \u001b[0mds\u001b[0m \u001b[0;34m=\u001b[0m \u001b[0mDataSource\u001b[0m\u001b[0;34m(\u001b[0m\u001b[0mdestpath\u001b[0m\u001b[0;34m)\u001b[0m\u001b[0;34m\u001b[0m\u001b[0;34m\u001b[0m\u001b[0m\n\u001b[0;32m--> 266\u001b[0;31m     \u001b[0;32mreturn\u001b[0m \u001b[0mds\u001b[0m\u001b[0;34m.\u001b[0m\u001b[0mopen\u001b[0m\u001b[0;34m(\u001b[0m\u001b[0mpath\u001b[0m\u001b[0;34m,\u001b[0m \u001b[0mmode\u001b[0m\u001b[0;34m,\u001b[0m \u001b[0mencoding\u001b[0m\u001b[0;34m=\u001b[0m\u001b[0mencoding\u001b[0m\u001b[0;34m,\u001b[0m \u001b[0mnewline\u001b[0m\u001b[0;34m=\u001b[0m\u001b[0mnewline\u001b[0m\u001b[0;34m)\u001b[0m\u001b[0;34m\u001b[0m\u001b[0;34m\u001b[0m\u001b[0m\n\u001b[0m\u001b[1;32m    267\u001b[0m \u001b[0;34m\u001b[0m\u001b[0m\n\u001b[1;32m    268\u001b[0m \u001b[0;34m\u001b[0m\u001b[0m\n",
      "\u001b[0;32m//anaconda3/lib/python3.7/site-packages/numpy/lib/_datasource.py\u001b[0m in \u001b[0;36mopen\u001b[0;34m(self, path, mode, encoding, newline)\u001b[0m\n\u001b[1;32m    622\u001b[0m                                       encoding=encoding, newline=newline)\n\u001b[1;32m    623\u001b[0m         \u001b[0;32melse\u001b[0m\u001b[0;34m:\u001b[0m\u001b[0;34m\u001b[0m\u001b[0;34m\u001b[0m\u001b[0m\n\u001b[0;32m--> 624\u001b[0;31m             \u001b[0;32mraise\u001b[0m \u001b[0mIOError\u001b[0m\u001b[0;34m(\u001b[0m\u001b[0;34m\"%s not found.\"\u001b[0m \u001b[0;34m%\u001b[0m \u001b[0mpath\u001b[0m\u001b[0;34m)\u001b[0m\u001b[0;34m\u001b[0m\u001b[0;34m\u001b[0m\u001b[0m\n\u001b[0m\u001b[1;32m    625\u001b[0m \u001b[0;34m\u001b[0m\u001b[0m\n\u001b[1;32m    626\u001b[0m \u001b[0;34m\u001b[0m\u001b[0m\n",
      "\u001b[0;31mOSError\u001b[0m: SOL not found."
     ]
    }
   ],
   "source": [
    "from pylab import *\n",
    "\n",
    "\n",
    "data = loadtxt('SOL', delimiter = ',', skiprows=1)\n",
    "\n",
    "\n",
    "nr = data[:,0]\n",
    "\n",
    "sol = data[:,1]\n",
    "\n",
    "plot(nr,sol)\n"
   ]
  },
  {
   "cell_type": "markdown",
   "metadata": {},
   "source": [
    "# Regressjon\n",
    "\n",
    "Funksjon som passer punkter vi har. \n",
    "\n",
    "scatter ( annen versjon av plott) \n",
    "\n",
    "\n",
    "from sklearn.metrics import r2_score \n",
    "\n",
    "R2 = r2_score(sol_NH3)     ___ regresjon B)\n",
    "\n",
    "\n",
    " tallet over grafen skal være så nærme 1 som mulig ( IKKE NÆR 0)har verdier mellom 0 og en ( når den er nær 0 er punktene veldig spredt. \n",
    " \n",
    " \n",
    "\n",
    "ekstrapolering\n",
    "\n",
    "\"en god/dårlig ektrapolering\"\n",
    "\n",
    "forutsi utvikling fremover i grafen ( etter de punktene vi har) \n",
    "\n",
    "R**2  uttales \"R2\"\n",
    "\n",
    "fikk en god tilpasning betyr ikke at det er riktig, har noe å si med sammenhengen. \n",
    "\n",
    "\n",
    "pie  kakediagram  \n",
    "hist    søylediagram \n",
    "\n"
   ]
  },
  {
   "cell_type": "code",
   "execution_count": 7,
   "metadata": {},
   "outputs": [
    {
     "data": {
      "text/plain": [
       "([<matplotlib.patches.Wedge at 0x1123360b8>,\n",
       "  <matplotlib.patches.Wedge at 0x112336588>,\n",
       "  <matplotlib.patches.Wedge at 0x112336a20>,\n",
       "  <matplotlib.patches.Wedge at 0x112336eb8>,\n",
       "  <matplotlib.patches.Wedge at 0x112346390>,\n",
       "  <matplotlib.patches.Wedge at 0x112346828>,\n",
       "  <matplotlib.patches.Wedge at 0x112346cc0>],\n",
       " [Text(0.6033870936439334, 0.9197412762423611, 'R2'),\n",
       "  Text(-0.6521583628426988, 0.8858269976549208, 'S2'),\n",
       "  Text(-1.0988860132090064, 0.04949272647183247, 'Kjemi 2'),\n",
       "  Text(-0.39220114356339075, -1.0277053386003057, 'Fysikk'),\n",
       "  Text(0.33614957110263743, -1.0473793323564835, 'Fysikk 2'),\n",
       "  Text(0.6033870290596365, -0.919741318612242, 'Tekforsk'),\n",
       "  Text(1.0109794958595895, -0.43349793419518234, 'Biologi 2')])"
      ]
     },
     "execution_count": 7,
     "metadata": {},
     "output_type": "execute_result"
    },
    {
     "data": {
      "image/png": "[encoded data removed]",
      "text/plain": [
       "<Figure size 432x288 with 1 Axes>"
      ]
     },
     "metadata": {},
     "output_type": "display_data"
    }
   ],
   "source": [
    "\n",
    "from pylab import *\n",
    "\n",
    "fag = ['R2','S2','Kjemi 2','Fysikk','Fysikk 2', 'Tekforsk', 'Biologi 2']\n",
    "\n",
    "\n",
    "antall = [110, 25, 74, 65,10,20,45]\n",
    "\n",
    "\n",
    "pie(antall,labels=fag)"
   ]
  },
  {
   "cell_type": "code",
   "execution_count": null,
   "metadata": {},
   "outputs": [],
   "source": []
  }
 ],
 "metadata": {
  "kernelspec": {
   "display_name": "Python 3",
   "language": "python",
   "name": "python3"
  },
  "language_info": {
   "codemirror_mode": {
    "name": "ipython",
    "version": 3
   },
   "file_extension": ".py",
   "mimetype": "text/x-python",
   "name": "python",
   "nbconvert_exporter": "python",
   "pygments_lexer": "ipython3",
   "version": "3.7.3"
  }
 },
 "nbformat": 4,
 "nbformat_minor": 2
}
