{
 "cells": [
  {
   "cell_type": "markdown",
   "metadata": {},
   "source": [
    "# Numerisk derivasjon\n",
    "\n",
    "## lag en derivasjons funksjon\n",
    "\n",
    "lag standar verdi for dx ( den kan erstattes senere) "
   ]
  },
  {
   "cell_type": "code",
   "execution_count": 14,
   "metadata": {
    "scrolled": false
   },
   "outputs": [
    {
     "name": "stdout",
     "output_type": "stream",
     "text": [
      "2.100000000000002\n"
     ]
    }
   ],
   "source": [
    "from pylab import*\n",
    "\n",
    "d\n",
    "\n",
    "def fder(f,x,dx=1E-27):\n",
    "    df = (f(x + dx)-f(x))/dx\n",
    "    return df\n",
    "\n",
    "df = fder (f,1,1E-1)\n",
    "print (df)"
   ]
  },
  {
   "cell_type": "markdown",
   "metadata": {},
   "source": [
    "her bruker vi float, noe som vil si at maskinen runder av. dett er fordi maskinen bruker totallsystemet.Med veldig små tall får vi en stor avrundingsfeil. Derfor lager jeg ikke dx for liten"
   ]
  },
  {
   "cell_type": "markdown",
   "metadata": {},
   "source": [
    "# diskret derivasjon\n",
    "\n",
    " forsøk med "
   ]
  },
  {
   "cell_type": "code",
   "execution_count": 19,
   "metadata": {},
   "outputs": [
    {
     "data": {
      "text/plain": [
       "[<matplotlib.lines.Line2D at 0x120ea0a58>]"
      ]
     },
     "execution_count": 19,
     "metadata": {},
     "output_type": "execute_result"
    },
    {
     "data": {
      "image/png": "[encoded data removed]",
      "text/plain": [
       "<Figure size 432x288 with 1 Axes>"
      ]
     },
     "metadata": {
      "needs_background": "light"
     },
     "output_type": "display_data"
    }
   ],
   "source": [
    "from pylab import *\n",
    "t = [5,10,15,30,50,60]\n",
    "s = [115,190,390,600,1000,1200]\n",
    "\n",
    "v = []\n",
    "v.append(0)\n",
    "\n",
    "for i in range (len(s)-1):\n",
    "    sder = (s[i+1]-s[i]/t[i+1]-t[i])\n",
    "    v.append(sder)\n",
    "    \n",
    "plot (t, v)\n",
    "\n",
    "plot (t, s)"
   ]
  },
  {
   "cell_type": "markdown",
   "metadata": {},
   "source": [
    "\n"
   ]
  },
  {
   "cell_type": "markdown",
   "metadata": {},
   "source": [
    "$\\Delta x h_2$"
   ]
  },
  {
   "cell_type": "code",
   "execution_count": null,
   "metadata": {},
   "outputs": [],
   "source": []
  }
 ],
 "metadata": {
  "kernelspec": {
   "display_name": "Python 3",
   "language": "python",
   "name": "python3"
  },
  "language_info": {
   "codemirror_mode": {
    "name": "ipython",
    "version": 3
   },
   "file_extension": ".py",
   "mimetype": "text/x-python",
   "name": "python",
   "nbconvert_exporter": "python",
   "pygments_lexer": "ipython3",
   "version": "3.7.3"
  }
 },
 "nbformat": 4,
 "nbformat_minor": 2
}
